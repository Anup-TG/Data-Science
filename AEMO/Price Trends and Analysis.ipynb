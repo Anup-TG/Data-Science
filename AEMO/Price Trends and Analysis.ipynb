{
 "cells": [
  {
   "cell_type": "markdown",
   "metadata": {},
   "source": [
    "# AEMO DATA\n",
    "##### Source : https://aemo.com.au/energy-systems/electricity/national-electricity-market-nem/data-nem/aggregated-data"
   ]
  },
  {
   "cell_type": "markdown",
   "metadata": {},
   "source": [
    "## Install Required Libraries"
   ]
  },
  {
   "cell_type": "code",
   "execution_count": null,
   "metadata": {},
   "outputs": [],
   "source": [
    "import subprocess\n",
    "import sys\n",
    "\n",
    "def install(package):\n",
    "    subprocess.check_call([sys.executable, \"-m\", \"pip\", \"install\", package])\n",
    "\n",
    "packages = ['pandas', 'numpy', 'matplotlib', 'seaborn', 'tensorflow']\n",
    "\n",
    "for package in packages:\n",
    "    try:\n",
    "        __import__(package)  \n",
    "    except ImportError:\n",
    "        install(package)  \n",
    "\n",
    "from IPython.display import clear_output\n",
    "\n",
    "clear_output(wait=True)\n",
    "\n",
    "print(\"All required packages are installed.\")\n"
   ]
  }
 ],
 "metadata": {
  "kernelspec": {
   "display_name": "Python 3",
   "language": "python",
   "name": "python3"
  },
  "language_info": {
   "name": "python",
   "version": "3.9.6"
  }
 },
 "nbformat": 4,
 "nbformat_minor": 2
}
