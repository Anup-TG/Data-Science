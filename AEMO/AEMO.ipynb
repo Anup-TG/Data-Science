{
 "cells": [
  {
   "cell_type": "markdown",
   "metadata": {},
   "source": [
    "## Install Required Libraries"
   ]
  },
  {
   "cell_type": "code",
   "execution_count": 8,
   "metadata": {},
   "outputs": [
    {
     "name": "stdout",
     "output_type": "stream",
     "text": [
      "All required packages are installed.\n"
     ]
    }
   ],
   "source": [
    "import subprocess\n",
    "import sys\n",
    "\n",
    "def install(package):\n",
    "    subprocess.check_call([sys.executable, \"-m\", \"pip\", \"install\", package])\n",
    "\n",
    "packages = ['pandas', 'numpy', 'matplotlib', 'seaborn', 'tensorflow']\n",
    "\n",
    "for package in packages:\n",
    "    try:\n",
    "        __import__(package)  \n",
    "    except ImportError:\n",
    "        install(package)  \n",
    "\n",
    "from IPython.display import clear_output\n",
    "\n",
    "clear_output(wait=True)\n",
    "\n",
    "print(\"All required packages are installed.\")\n"
   ]
  },
  {
   "cell_type": "markdown",
   "metadata": {},
   "source": [
    "## Merge monthly files from AEMO  "
   ]
  },
  {
   "cell_type": "markdown",
   "metadata": {},
   "source": [
    "#### Also append new monthly files from AEMO"
   ]
  },
  {
   "cell_type": "code",
   "execution_count": 10,
   "metadata": {},
   "outputs": [
    {
     "name": "stdout",
     "output_type": "stream",
     "text": [
      "Merged data saved at: /Users/anup/Desktop/AEMO_DATA/Merged_PRICE_AND_DEMAND_VIC1.csv\n"
     ]
    }
   ],
   "source": [
    "import pandas as pd\n",
    "import os\n",
    "\n",
    "folder_path = '/Users/anup/Desktop/AEMO_DATA/'\n",
    "\n",
    "merged_file_path = os.path.join(folder_path, 'Merged_PRICE_AND_DEMAND_VIC1.csv')\n",
    "\n",
    "file_paths = [os.path.join(folder_path, f) for f in os.listdir(folder_path) \n",
    "              if f.endswith('.csv') and f != 'Merged_PRICE_AND_DEMAND_VIC1.csv']\n",
    "\n",
    "dfs = []\n",
    "\n",
    "if os.path.exists(merged_file_path):\n",
    "    merged_df = pd.read_csv(merged_file_path)\n",
    "    dfs.append(merged_df)\n",
    "\n",
    "for file in file_paths:\n",
    "    df = pd.read_csv(file)\n",
    "    dfs.append(df)\n",
    "\n",
    "merged_df = pd.concat(dfs, ignore_index=True)\n",
    "\n",
    "merged_df.to_csv(merged_file_path, index=False)\n",
    "\n",
    "print(f'Merged data saved at: {merged_file_path}')\n"
   ]
  },
  {
   "cell_type": "markdown",
   "metadata": {},
   "source": [
    "testing"
   ]
  }
 ],
 "metadata": {
  "kernelspec": {
   "display_name": "Python 3",
   "language": "python",
   "name": "python3"
  },
  "language_info": {
   "codemirror_mode": {
    "name": "ipython",
    "version": 3
   },
   "file_extension": ".py",
   "mimetype": "text/x-python",
   "name": "python",
   "nbconvert_exporter": "python",
   "pygments_lexer": "ipython3",
   "version": "3.9.6"
  }
 },
 "nbformat": 4,
 "nbformat_minor": 2
}
