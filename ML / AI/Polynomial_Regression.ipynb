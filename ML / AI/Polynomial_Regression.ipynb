{
  "nbformat": 4,
  "nbformat_minor": 0,
  "metadata": {
    "colab": {
      "provenance": [],
      "authorship_tag": "ABX9TyPmhLiRcZx9hg0MfPNoe/LW",
      "include_colab_link": true
    },
    "kernelspec": {
      "name": "python3",
      "display_name": "Python 3"
    },
    "language_info": {
      "name": "python"
    }
  },
  "cells": [
    {
      "cell_type": "markdown",
      "metadata": {
        "id": "view-in-github",
        "colab_type": "text"
      },
      "source": [
        "<a href=\"https://colab.research.google.com/github/Anup-TG/Data-Science/blob/main/Polynomial_Regression.ipynb\" target=\"_parent\"><img src=\"https://colab.research.google.com/assets/colab-badge.svg\" alt=\"Open In Colab\"/></a>"
      ]
    },
    {
      "cell_type": "code",
      "execution_count": 1,
      "metadata": {
        "id": "kNJm5g-eURVf"
      },
      "outputs": [],
      "source": [
        "import numpy as np\n",
        "import pandas as pd\n",
        "import matplotlib.pyplot as plt\n",
        "%matplotlib inline"
      ]
    },
    {
      "cell_type": "code",
      "source": [
        "X = 6 * np.random.rand(100, 1) - 3\n",
        "y =0.5 * X**2 + 1.5*X + 2 + np.random.randn(100, 1)\n",
        "# quadratic equation used- y=0.5x^2+1.5x+2+outliers\n",
        "plt.scatter(X,y,color='g')\n",
        "plt.xlabel('X dataset')\n",
        "plt.ylabel('Y dataset')"
      ],
      "metadata": {
        "colab": {
          "base_uri": "https://localhost:8080/",
          "height": 466
        },
        "id": "C4ePaBiaUjZ8",
        "outputId": "72b9fd34-1c87-448e-8b91-8d58bcca7019"
      },
      "execution_count": 2,
      "outputs": [
        {
          "output_type": "execute_result",
          "data": {
            "text/plain": [
              "Text(0, 0.5, 'Y dataset')"
            ]
          },
          "metadata": {},
          "execution_count": 2
        },
        {
          "output_type": "display_data",
          "data": {
            "text/plain": [
              "<Figure size 640x480 with 1 Axes>"
            ],
            "image/png": "[encoded data removed]"
          },
          "metadata": {}
        }
      ]
    },
    {
      "cell_type": "code",
      "source": [
        "from sklearn.model_selection import train_test_split\n",
        "X_train,X_test,y_train,y_test=train_test_split(X,y,test_size=0.2,random_state=42)"
      ],
      "metadata": {
        "id": "nxrBknUtUqbP"
      },
      "execution_count": 3,
      "outputs": []
    },
    {
      "cell_type": "code",
      "source": [
        "from sklearn.linear_model import LinearRegression\n",
        "regression_1=LinearRegression()"
      ],
      "metadata": {
        "id": "IfNW3jkAUvqn"
      },
      "execution_count": 4,
      "outputs": []
    },
    {
      "cell_type": "code",
      "source": [
        "regression_1.fit(X_train,y_train)"
      ],
      "metadata": {
        "colab": {
          "base_uri": "https://localhost:8080/",
          "height": 74
        },
        "id": "98Z_7H9iU2vd",
        "outputId": "f6dcd980-903a-41a0-966a-e6d88ecd6e3e"
      },
      "execution_count": 5,
      "outputs": [
        {
          "output_type": "execute_result",
          "data": {
            "text/plain": [
              "LinearRegression()"
            ],
            "text/html": [
              "<style>#sk-container-id-1 {color: black;}#sk-container-id-1 pre{padding: 0;}#sk-container-id-1 div.sk-toggleable {background-color: white;}#sk-container-id-1 label.sk-toggleable__label {cursor: pointer;display: block;width: 100%;margin-bottom: 0;padding: 0.3em;box-sizing: border-box;text-align: center;}#sk-container-id-1 label.sk-toggleable__label-arrow:before {content: \"▸\";float: left;margin-right: 0.25em;color: #696969;}#sk-container-id-1 label.sk-toggleable__label-arrow:hover:before {color: black;}#sk-container-id-1 div.sk-estimator:hover label.sk-toggleable__label-arrow:before {color: black;}#sk-container-id-1 div.sk-toggleable__content {max-height: 0;max-width: 0;overflow: hidden;text-align: left;background-color: #f0f8ff;}#sk-container-id-1 div.sk-toggleable__content pre {margin: 0.2em;color: black;border-radius: 0.25em;background-color: #f0f8ff;}#sk-container-id-1 input.sk-toggleable__control:checked~div.sk-toggleable__content {max-height: 200px;max-width: 100%;overflow: auto;}#sk-container-id-1 input.sk-toggleable__control:checked~label.sk-toggleable__label-arrow:before {content: \"▾\";}#sk-container-id-1 div.sk-estimator input.sk-toggleable__control:checked~label.sk-toggleable__label {background-color: #d4ebff;}#sk-container-id-1 div.sk-label input.sk-toggleable__control:checked~label.sk-toggleable__label {background-color: #d4ebff;}#sk-container-id-1 input.sk-hidden--visually {border: 0;clip: rect(1px 1px 1px 1px);clip: rect(1px, 1px, 1px, 1px);height: 1px;margin: -1px;overflow: hidden;padding: 0;position: absolute;width: 1px;}#sk-container-id-1 div.sk-estimator {font-family: monospace;background-color: #f0f8ff;border: 1px dotted black;border-radius: 0.25em;box-sizing: border-box;margin-bottom: 0.5em;}#sk-container-id-1 div.sk-estimator:hover {background-color: #d4ebff;}#sk-container-id-1 div.sk-parallel-item::after {content: \"\";width: 100%;border-bottom: 1px solid gray;flex-grow: 1;}#sk-container-id-1 div.sk-label:hover label.sk-toggleable__label {background-color: #d4ebff;}#sk-container-id-1 div.sk-serial::before {content: \"\";position: absolute;border-left: 1px solid gray;box-sizing: border-box;top: 0;bottom: 0;left: 50%;z-index: 0;}#sk-container-id-1 div.sk-serial {display: flex;flex-direction: column;align-items: center;background-color: white;padding-right: 0.2em;padding-left: 0.2em;position: relative;}#sk-container-id-1 div.sk-item {position: relative;z-index: 1;}#sk-container-id-1 div.sk-parallel {display: flex;align-items: stretch;justify-content: center;background-color: white;position: relative;}#sk-container-id-1 div.sk-item::before, #sk-container-id-1 div.sk-parallel-item::before {content: \"\";position: absolute;border-left: 1px solid gray;box-sizing: border-box;top: 0;bottom: 0;left: 50%;z-index: -1;}#sk-container-id-1 div.sk-parallel-item {display: flex;flex-direction: column;z-index: 1;position: relative;background-color: white;}#sk-container-id-1 div.sk-parallel-item:first-child::after {align-self: flex-end;width: 50%;}#sk-container-id-1 div.sk-parallel-item:last-child::after {align-self: flex-start;width: 50%;}#sk-container-id-1 div.sk-parallel-item:only-child::after {width: 0;}#sk-container-id-1 div.sk-dashed-wrapped {border: 1px dashed gray;margin: 0 0.4em 0.5em 0.4em;box-sizing: border-box;padding-bottom: 0.4em;background-color: white;}#sk-container-id-1 div.sk-label label {font-family: monospace;font-weight: bold;display: inline-block;line-height: 1.2em;}#sk-container-id-1 div.sk-label-container {text-align: center;}#sk-container-id-1 div.sk-container {/* jupyter's `normalize.less` sets `[hidden] { display: none; }` but bootstrap.min.css set `[hidden] { display: none !important; }` so we also need the `!important` here to be able to override the default hidden behavior on the sphinx rendered scikit-learn.org. See: https://github.com/scikit-learn/scikit-learn/issues/21755 */display: inline-block !important;position: relative;}#sk-container-id-1 div.sk-text-repr-fallback {display: none;}</style><div id=\"sk-container-id-1\" class=\"sk-top-container\"><div class=\"sk-text-repr-fallback\"><pre>LinearRegression()</pre><b>In a Jupyter environment, please rerun this cell to show the HTML representation or trust the notebook. <br />On GitHub, the HTML representation is unable to render, please try loading this page with nbviewer.org.</b></div><div class=\"sk-container\" hidden><div class=\"sk-item\"><div class=\"sk-estimator sk-toggleable\"><input class=\"sk-toggleable__control sk-hidden--visually\" id=\"sk-estimator-id-1\" type=\"checkbox\" checked><label for=\"sk-estimator-id-1\" class=\"sk-toggleable__label sk-toggleable__label-arrow\">LinearRegression</label><div class=\"sk-toggleable__content\"><pre>LinearRegression()</pre></div></div></div></div></div>"
            ]
          },
          "metadata": {},
          "execution_count": 5
        }
      ]
    },
    {
      "cell_type": "code",
      "source": [
        "from sklearn.metrics import r2_score\n",
        "score=r2_score(y_test,regression_1.predict(X_test))\n",
        "print(score)"
      ],
      "metadata": {
        "colab": {
          "base_uri": "https://localhost:8080/"
        },
        "id": "liDvxxAlU5y4",
        "outputId": "95a0cd86-539b-430a-d0c9-fd3365027a01"
      },
      "execution_count": 6,
      "outputs": [
        {
          "output_type": "stream",
          "name": "stdout",
          "text": [
            "0.7295516426216311\n"
          ]
        }
      ]
    },
    {
      "cell_type": "code",
      "source": [
        "plt.plot(X_train,regression_1.predict(X_train),color='r')\n",
        "plt.scatter(X_train,y_train)\n",
        "plt.xlabel(\"X Dataset\")\n",
        "plt.ylabel(\"Y\")\n"
      ],
      "metadata": {
        "colab": {
          "base_uri": "https://localhost:8080/",
          "height": 466
        },
        "id": "FBotGpYmU8vX",
        "outputId": "d6e55555-a99f-4b4c-ea18-9949d7140c73"
      },
      "execution_count": 7,
      "outputs": [
        {
          "output_type": "execute_result",
          "data": {
            "text/plain": [
              "Text(0, 0.5, 'Y')"
            ]
          },
          "metadata": {},
          "execution_count": 7
        },
        {
          "output_type": "display_data",
          "data": {
            "text/plain": [
              "<Figure size 640x480 with 1 Axes>"
            ],
            "image/png": "[encoded data removed]"
          },
          "metadata": {}
        }
      ]
    },
    {
      "cell_type": "code",
      "source": [
        "from sklearn.preprocessing import PolynomialFeatures"
      ],
      "metadata": {
        "id": "c391qrRlVRKf"
      },
      "execution_count": 8,
      "outputs": []
    },
    {
      "cell_type": "code",
      "source": [
        "poly=PolynomialFeatures(degree=2,include_bias=True)\n",
        "X_train_poly=poly.fit_transform(X_train)\n",
        "X_test_poly=poly.transform(X_test)"
      ],
      "metadata": {
        "id": "qj4jqmcHVVtj"
      },
      "execution_count": 9,
      "outputs": []
    },
    {
      "cell_type": "code",
      "source": [
        "X_train_poly"
      ],
      "metadata": {
        "colab": {
          "base_uri": "https://localhost:8080/"
        },
        "id": "5Q7gFmS2VYSy",
        "outputId": "774de7f8-3b79-40e2-b71f-566b187c3363"
      },
      "execution_count": 10,
      "outputs": [
        {
          "output_type": "execute_result",
          "data": {
            "text/plain": [
              "array([[ 1.00000000e+00, -2.36823951e+00,  5.60855836e+00],\n",
              "       [ 1.00000000e+00, -1.61589529e+00,  2.61111759e+00],\n",
              "       [ 1.00000000e+00,  1.03785305e+00,  1.07713895e+00],\n",
              "       [ 1.00000000e+00,  4.72061608e-02,  2.22842161e-03],\n",
              "       [ 1.00000000e+00, -1.60330522e+00,  2.57058764e+00],\n",
              "       [ 1.00000000e+00,  6.50463535e-01,  4.23102811e-01],\n",
              "       [ 1.00000000e+00,  2.92338383e+00,  8.54617303e+00],\n",
              "       [ 1.00000000e+00, -3.08506209e-02,  9.51760809e-04],\n",
              "       [ 1.00000000e+00, -7.10160410e-01,  5.04327808e-01],\n",
              "       [ 1.00000000e+00, -1.65970486e+00,  2.75462023e+00],\n",
              "       [ 1.00000000e+00,  2.27868144e+00,  5.19238913e+00],\n",
              "       [ 1.00000000e+00,  2.79535278e+00,  7.81399715e+00],\n",
              "       [ 1.00000000e+00,  1.59387860e+00,  2.54044900e+00],\n",
              "       [ 1.00000000e+00, -2.85301127e+00,  8.13967331e+00],\n",
              "       [ 1.00000000e+00,  1.80228011e+00,  3.24821360e+00],\n",
              "       [ 1.00000000e+00,  2.34078627e+00,  5.47928034e+00],\n",
              "       [ 1.00000000e+00, -1.15560851e+00,  1.33543103e+00],\n",
              "       [ 1.00000000e+00,  2.27933626e+00,  5.19537377e+00],\n",
              "       [ 1.00000000e+00,  1.49906963e-01,  2.24720975e-02],\n",
              "       [ 1.00000000e+00, -1.80277439e+00,  3.24999551e+00],\n",
              "       [ 1.00000000e+00, -2.07028142e-01,  4.28606517e-02],\n",
              "       [ 1.00000000e+00,  4.57584566e-01,  2.09383635e-01],\n",
              "       [ 1.00000000e+00, -6.32392414e-01,  3.99920165e-01],\n",
              "       [ 1.00000000e+00, -1.63505398e+00,  2.67340152e+00],\n",
              "       [ 1.00000000e+00, -4.58337009e-01,  2.10072814e-01],\n",
              "       [ 1.00000000e+00,  6.95208631e-02,  4.83315040e-03],\n",
              "       [ 1.00000000e+00, -8.78557503e-01,  7.71863287e-01],\n",
              "       [ 1.00000000e+00,  1.80013271e-01,  3.24047776e-02],\n",
              "       [ 1.00000000e+00,  1.86436311e+00,  3.47584981e+00],\n",
              "       [ 1.00000000e+00,  1.52467439e+00,  2.32463200e+00],\n",
              "       [ 1.00000000e+00,  9.17478319e-01,  8.41766466e-01],\n",
              "       [ 1.00000000e+00,  2.66534957e+00,  7.10408834e+00],\n",
              "       [ 1.00000000e+00, -2.24422039e-01,  5.03652515e-02],\n",
              "       [ 1.00000000e+00,  1.77478593e+00,  3.14986511e+00],\n",
              "       [ 1.00000000e+00, -2.56082412e+00,  6.55782018e+00],\n",
              "       [ 1.00000000e+00, -1.87757705e+00,  3.52529557e+00],\n",
              "       [ 1.00000000e+00,  1.97460978e+00,  3.89908380e+00],\n",
              "       [ 1.00000000e+00, -3.03377853e-01,  9.20381219e-02],\n",
              "       [ 1.00000000e+00, -6.30165099e-01,  3.97108052e-01],\n",
              "       [ 1.00000000e+00, -1.76859193e+00,  3.12791741e+00],\n",
              "       [ 1.00000000e+00,  2.32598045e+00,  5.41018506e+00],\n",
              "       [ 1.00000000e+00, -1.53351132e+00,  2.35165696e+00],\n",
              "       [ 1.00000000e+00,  9.18954447e-01,  8.44477276e-01],\n",
              "       [ 1.00000000e+00, -4.13462196e-01,  1.70950987e-01],\n",
              "       [ 1.00000000e+00, -2.31425164e+00,  5.35576065e+00],\n",
              "       [ 1.00000000e+00, -7.50797364e-01,  5.63696682e-01],\n",
              "       [ 1.00000000e+00,  2.64829440e+00,  7.01346323e+00],\n",
              "       [ 1.00000000e+00,  2.10307808e+00,  4.42293742e+00],\n",
              "       [ 1.00000000e+00, -1.86967538e-01,  3.49568604e-02],\n",
              "       [ 1.00000000e+00, -2.33568159e+00,  5.45540849e+00],\n",
              "       [ 1.00000000e+00, -1.08441195e+00,  1.17594929e+00],\n",
              "       [ 1.00000000e+00,  2.93410014e+00,  8.60894360e+00],\n",
              "       [ 1.00000000e+00,  9.32194598e-01,  8.68986768e-01],\n",
              "       [ 1.00000000e+00, -1.92939571e+00,  3.72256781e+00],\n",
              "       [ 1.00000000e+00, -5.06998697e-02,  2.57047679e-03],\n",
              "       [ 1.00000000e+00,  2.45956292e+00,  6.04944976e+00],\n",
              "       [ 1.00000000e+00,  8.43852509e-01,  7.12087056e-01],\n",
              "       [ 1.00000000e+00, -1.70576583e+00,  2.90963706e+00],\n",
              "       [ 1.00000000e+00, -2.22344934e+00,  4.94372698e+00],\n",
              "       [ 1.00000000e+00,  4.01496264e-01,  1.61199250e-01],\n",
              "       [ 1.00000000e+00,  1.48335168e+00,  2.20033220e+00],\n",
              "       [ 1.00000000e+00,  8.08077890e-01,  6.52989877e-01],\n",
              "       [ 1.00000000e+00,  2.95325563e+00,  8.72171879e+00],\n",
              "       [ 1.00000000e+00, -1.70064764e+00,  2.89220241e+00],\n",
              "       [ 1.00000000e+00, -2.49440657e+00,  6.22206412e+00],\n",
              "       [ 1.00000000e+00, -2.75275302e+00,  7.57764918e+00],\n",
              "       [ 1.00000000e+00, -9.45227312e-02,  8.93454672e-03],\n",
              "       [ 1.00000000e+00, -2.00018759e+00,  4.00075041e+00],\n",
              "       [ 1.00000000e+00, -7.65181552e-01,  5.85502808e-01],\n",
              "       [ 1.00000000e+00,  1.28728501e+00,  1.65710269e+00],\n",
              "       [ 1.00000000e+00,  1.98232066e+00,  3.92959518e+00],\n",
              "       [ 1.00000000e+00, -1.01918904e+00,  1.03874630e+00],\n",
              "       [ 1.00000000e+00,  2.97437231e+00,  8.84689062e+00],\n",
              "       [ 1.00000000e+00, -1.55378989e+00,  2.41426302e+00],\n",
              "       [ 1.00000000e+00, -1.96584491e+00,  3.86454622e+00],\n",
              "       [ 1.00000000e+00, -2.62698882e+00,  6.90107026e+00],\n",
              "       [ 1.00000000e+00, -2.58208190e+00,  6.66714695e+00],\n",
              "       [ 1.00000000e+00,  2.56914006e+00,  6.60048065e+00],\n",
              "       [ 1.00000000e+00, -1.79516544e+00,  3.22261895e+00],\n",
              "       [ 1.00000000e+00,  1.16061317e+00,  1.34702293e+00]])"
            ]
          },
          "metadata": {},
          "execution_count": 10
        }
      ]
    },
    {
      "cell_type": "code",
      "source": [
        "X_test_poly"
      ],
      "metadata": {
        "colab": {
          "base_uri": "https://localhost:8080/"
        },
        "id": "xhnFE4hOVbGw",
        "outputId": "b3496d41-ff55-478e-92d2-79342a261666"
      },
      "execution_count": 11,
      "outputs": [
        {
          "output_type": "execute_result",
          "data": {
            "text/plain": [
              "array([[ 1.        ,  0.49445814,  0.24448885],\n",
              "       [ 1.        ,  1.45095781,  2.10527856],\n",
              "       [ 1.        ,  1.08541407,  1.1781237 ],\n",
              "       [ 1.        , -1.77878976,  3.16409302],\n",
              "       [ 1.        ,  1.93428911,  3.74147438],\n",
              "       [ 1.        , -1.17081579,  1.37080962],\n",
              "       [ 1.        , -1.89798799,  3.60235842],\n",
              "       [ 1.        , -0.91566419,  0.83844092],\n",
              "       [ 1.        ,  2.8269749 ,  7.99178707],\n",
              "       [ 1.        ,  0.97819524,  0.95686593],\n",
              "       [ 1.        , -1.74968888,  3.06141117],\n",
              "       [ 1.        , -0.56074545,  0.31443545],\n",
              "       [ 1.        ,  1.98973869,  3.95906006],\n",
              "       [ 1.        , -1.06917878,  1.14314326],\n",
              "       [ 1.        , -1.0165059 ,  1.03328424],\n",
              "       [ 1.        ,  1.77710524,  3.15810305],\n",
              "       [ 1.        ,  0.24290929,  0.05900492],\n",
              "       [ 1.        ,  0.45787552,  0.20964999],\n",
              "       [ 1.        ,  2.09234019,  4.37788745],\n",
              "       [ 1.        , -1.10061803,  1.21136004]])"
            ]
          },
          "metadata": {},
          "execution_count": 11
        }
      ]
    },
    {
      "cell_type": "code",
      "source": [
        "from sklearn.metrics import r2_score\n",
        "regression = LinearRegression()\n",
        "regression.fit(X_train_poly, y_train)\n",
        "y_pred = regression.predict(X_test_poly)\n",
        "score=r2_score(y_test,y_pred)\n",
        "print(score)"
      ],
      "metadata": {
        "colab": {
          "base_uri": "https://localhost:8080/"
        },
        "id": "mGQDMIv6ViTT",
        "outputId": "4f658c58-21f7-4f97-d90a-5db98299fcdf"
      },
      "execution_count": 12,
      "outputs": [
        {
          "output_type": "stream",
          "name": "stdout",
          "text": [
            "0.8307123046199052\n"
          ]
        }
      ]
    },
    {
      "cell_type": "code",
      "source": [
        "print(regression.coef_)"
      ],
      "metadata": {
        "colab": {
          "base_uri": "https://localhost:8080/"
        },
        "id": "j5zRIz60Vmce",
        "outputId": "59940b28-fab0-472f-9997-5b1a10b75740"
      },
      "execution_count": 13,
      "outputs": [
        {
          "output_type": "stream",
          "name": "stdout",
          "text": [
            "[[0.         1.51433029 0.47217151]]\n"
          ]
        }
      ]
    },
    {
      "cell_type": "code",
      "source": [
        "print(regression.intercept_)"
      ],
      "metadata": {
        "colab": {
          "base_uri": "https://localhost:8080/"
        },
        "id": "NStAjDjZVr7W",
        "outputId": "f609bb90-0f5d-4039-c725-8f3e7d0c55fe"
      },
      "execution_count": 14,
      "outputs": [
        {
          "output_type": "stream",
          "name": "stdout",
          "text": [
            "[2.09643802]\n"
          ]
        }
      ]
    },
    {
      "cell_type": "code",
      "source": [
        "plt.scatter(X_train,regression.predict(X_train_poly))\n",
        "plt.scatter(X_train,y_train)"
      ],
      "metadata": {
        "colab": {
          "base_uri": "https://localhost:8080/",
          "height": 447
        },
        "id": "CLgNaP3qVuVR",
        "outputId": "9ef25c70-6d2d-44bb-c01c-def0a586c998"
      },
      "execution_count": 15,
      "outputs": [
        {
          "output_type": "execute_result",
          "data": {
            "text/plain": [
              "<matplotlib.collections.PathCollection at 0x7eb505028ca0>"
            ]
          },
          "metadata": {},
          "execution_count": 15
        },
        {
          "output_type": "display_data",
          "data": {
            "text/plain": [
              "<Figure size 640x480 with 1 Axes>"
            ],
            "image/png": "[encoded data removed]"
          },
          "metadata": {}
        }
      ]
    },
    {
      "cell_type": "code",
      "source": [
        "oly=PolynomialFeatures(degree=3,include_bias=True)\n",
        "X_train_poly=poly.fit_transform(X_train)\n",
        "X_test_poly=poly.transform(X_test)"
      ],
      "metadata": {
        "id": "eVZSxHPBVxBk"
      },
      "execution_count": 16,
      "outputs": []
    },
    {
      "cell_type": "code",
      "source": [
        "X_train_poly"
      ],
      "metadata": {
        "colab": {
          "base_uri": "https://localhost:8080/"
        },
        "id": "5aYygSsUV2dl",
        "outputId": "414b63d3-ba33-462c-f5aa-b3d44f07b060"
      },
      "execution_count": 17,
      "outputs": [
        {
          "output_type": "execute_result",
          "data": {
            "text/plain": [
              "array([[ 1.00000000e+00, -2.36823951e+00,  5.60855836e+00],\n",
              "       [ 1.00000000e+00, -1.61589529e+00,  2.61111759e+00],\n",
              "       [ 1.00000000e+00,  1.03785305e+00,  1.07713895e+00],\n",
              "       [ 1.00000000e+00,  4.72061608e-02,  2.22842161e-03],\n",
              "       [ 1.00000000e+00, -1.60330522e+00,  2.57058764e+00],\n",
              "       [ 1.00000000e+00,  6.50463535e-01,  4.23102811e-01],\n",
              "       [ 1.00000000e+00,  2.92338383e+00,  8.54617303e+00],\n",
              "       [ 1.00000000e+00, -3.08506209e-02,  9.51760809e-04],\n",
              "       [ 1.00000000e+00, -7.10160410e-01,  5.04327808e-01],\n",
              "       [ 1.00000000e+00, -1.65970486e+00,  2.75462023e+00],\n",
              "       [ 1.00000000e+00,  2.27868144e+00,  5.19238913e+00],\n",
              "       [ 1.00000000e+00,  2.79535278e+00,  7.81399715e+00],\n",
              "       [ 1.00000000e+00,  1.59387860e+00,  2.54044900e+00],\n",
              "       [ 1.00000000e+00, -2.85301127e+00,  8.13967331e+00],\n",
              "       [ 1.00000000e+00,  1.80228011e+00,  3.24821360e+00],\n",
              "       [ 1.00000000e+00,  2.34078627e+00,  5.47928034e+00],\n",
              "       [ 1.00000000e+00, -1.15560851e+00,  1.33543103e+00],\n",
              "       [ 1.00000000e+00,  2.27933626e+00,  5.19537377e+00],\n",
              "       [ 1.00000000e+00,  1.49906963e-01,  2.24720975e-02],\n",
              "       [ 1.00000000e+00, -1.80277439e+00,  3.24999551e+00],\n",
              "       [ 1.00000000e+00, -2.07028142e-01,  4.28606517e-02],\n",
              "       [ 1.00000000e+00,  4.57584566e-01,  2.09383635e-01],\n",
              "       [ 1.00000000e+00, -6.32392414e-01,  3.99920165e-01],\n",
              "       [ 1.00000000e+00, -1.63505398e+00,  2.67340152e+00],\n",
              "       [ 1.00000000e+00, -4.58337009e-01,  2.10072814e-01],\n",
              "       [ 1.00000000e+00,  6.95208631e-02,  4.83315040e-03],\n",
              "       [ 1.00000000e+00, -8.78557503e-01,  7.71863287e-01],\n",
              "       [ 1.00000000e+00,  1.80013271e-01,  3.24047776e-02],\n",
              "       [ 1.00000000e+00,  1.86436311e+00,  3.47584981e+00],\n",
              "       [ 1.00000000e+00,  1.52467439e+00,  2.32463200e+00],\n",
              "       [ 1.00000000e+00,  9.17478319e-01,  8.41766466e-01],\n",
              "       [ 1.00000000e+00,  2.66534957e+00,  7.10408834e+00],\n",
              "       [ 1.00000000e+00, -2.24422039e-01,  5.03652515e-02],\n",
              "       [ 1.00000000e+00,  1.77478593e+00,  3.14986511e+00],\n",
              "       [ 1.00000000e+00, -2.56082412e+00,  6.55782018e+00],\n",
              "       [ 1.00000000e+00, -1.87757705e+00,  3.52529557e+00],\n",
              "       [ 1.00000000e+00,  1.97460978e+00,  3.89908380e+00],\n",
              "       [ 1.00000000e+00, -3.03377853e-01,  9.20381219e-02],\n",
              "       [ 1.00000000e+00, -6.30165099e-01,  3.97108052e-01],\n",
              "       [ 1.00000000e+00, -1.76859193e+00,  3.12791741e+00],\n",
              "       [ 1.00000000e+00,  2.32598045e+00,  5.41018506e+00],\n",
              "       [ 1.00000000e+00, -1.53351132e+00,  2.35165696e+00],\n",
              "       [ 1.00000000e+00,  9.18954447e-01,  8.44477276e-01],\n",
              "       [ 1.00000000e+00, -4.13462196e-01,  1.70950987e-01],\n",
              "       [ 1.00000000e+00, -2.31425164e+00,  5.35576065e+00],\n",
              "       [ 1.00000000e+00, -7.50797364e-01,  5.63696682e-01],\n",
              "       [ 1.00000000e+00,  2.64829440e+00,  7.01346323e+00],\n",
              "       [ 1.00000000e+00,  2.10307808e+00,  4.42293742e+00],\n",
              "       [ 1.00000000e+00, -1.86967538e-01,  3.49568604e-02],\n",
              "       [ 1.00000000e+00, -2.33568159e+00,  5.45540849e+00],\n",
              "       [ 1.00000000e+00, -1.08441195e+00,  1.17594929e+00],\n",
              "       [ 1.00000000e+00,  2.93410014e+00,  8.60894360e+00],\n",
              "       [ 1.00000000e+00,  9.32194598e-01,  8.68986768e-01],\n",
              "       [ 1.00000000e+00, -1.92939571e+00,  3.72256781e+00],\n",
              "       [ 1.00000000e+00, -5.06998697e-02,  2.57047679e-03],\n",
              "       [ 1.00000000e+00,  2.45956292e+00,  6.04944976e+00],\n",
              "       [ 1.00000000e+00,  8.43852509e-01,  7.12087056e-01],\n",
              "       [ 1.00000000e+00, -1.70576583e+00,  2.90963706e+00],\n",
              "       [ 1.00000000e+00, -2.22344934e+00,  4.94372698e+00],\n",
              "       [ 1.00000000e+00,  4.01496264e-01,  1.61199250e-01],\n",
              "       [ 1.00000000e+00,  1.48335168e+00,  2.20033220e+00],\n",
              "       [ 1.00000000e+00,  8.08077890e-01,  6.52989877e-01],\n",
              "       [ 1.00000000e+00,  2.95325563e+00,  8.72171879e+00],\n",
              "       [ 1.00000000e+00, -1.70064764e+00,  2.89220241e+00],\n",
              "       [ 1.00000000e+00, -2.49440657e+00,  6.22206412e+00],\n",
              "       [ 1.00000000e+00, -2.75275302e+00,  7.57764918e+00],\n",
              "       [ 1.00000000e+00, -9.45227312e-02,  8.93454672e-03],\n",
              "       [ 1.00000000e+00, -2.00018759e+00,  4.00075041e+00],\n",
              "       [ 1.00000000e+00, -7.65181552e-01,  5.85502808e-01],\n",
              "       [ 1.00000000e+00,  1.28728501e+00,  1.65710269e+00],\n",
              "       [ 1.00000000e+00,  1.98232066e+00,  3.92959518e+00],\n",
              "       [ 1.00000000e+00, -1.01918904e+00,  1.03874630e+00],\n",
              "       [ 1.00000000e+00,  2.97437231e+00,  8.84689062e+00],\n",
              "       [ 1.00000000e+00, -1.55378989e+00,  2.41426302e+00],\n",
              "       [ 1.00000000e+00, -1.96584491e+00,  3.86454622e+00],\n",
              "       [ 1.00000000e+00, -2.62698882e+00,  6.90107026e+00],\n",
              "       [ 1.00000000e+00, -2.58208190e+00,  6.66714695e+00],\n",
              "       [ 1.00000000e+00,  2.56914006e+00,  6.60048065e+00],\n",
              "       [ 1.00000000e+00, -1.79516544e+00,  3.22261895e+00],\n",
              "       [ 1.00000000e+00,  1.16061317e+00,  1.34702293e+00]])"
            ]
          },
          "metadata": {},
          "execution_count": 17
        }
      ]
    },
    {
      "cell_type": "code",
      "source": [
        "from sklearn.metrics import r2_score\n",
        "regression = LinearRegression()\n",
        "regression.fit(X_train_poly, y_train)\n",
        "y_pred = regression.predict(X_test_poly)\n",
        "score=r2_score(y_test,y_pred)\n",
        "print(score)"
      ],
      "metadata": {
        "colab": {
          "base_uri": "https://localhost:8080/"
        },
        "id": "EIZYUiEpV4qM",
        "outputId": "9aed6755-8c25-4b08-ab41-1c6f0f4a8b69"
      },
      "execution_count": 18,
      "outputs": [
        {
          "output_type": "stream",
          "name": "stdout",
          "text": [
            "0.8307123046199052\n"
          ]
        }
      ]
    },
    {
      "cell_type": "code",
      "source": [
        "X_new = np.linspace(-3, 3, 200).reshape(200, 1)\n",
        "X_new_poly = poly.transform(X_new)\n",
        "X_new_poly"
      ],
      "metadata": {
        "colab": {
          "base_uri": "https://localhost:8080/"
        },
        "id": "HJuUl66BV793",
        "outputId": "d9dfccea-72fa-4e5c-c2ae-77f11d34e5ab"
      },
      "execution_count": 19,
      "outputs": [
        {
          "output_type": "execute_result",
          "data": {
            "text/plain": [
              "array([[ 1.00000000e+00, -3.00000000e+00,  9.00000000e+00],\n",
              "       [ 1.00000000e+00, -2.96984925e+00,  8.82000455e+00],\n",
              "       [ 1.00000000e+00, -2.93969849e+00,  8.64182723e+00],\n",
              "       [ 1.00000000e+00, -2.90954774e+00,  8.46546804e+00],\n",
              "       [ 1.00000000e+00, -2.87939698e+00,  8.29092700e+00],\n",
              "       [ 1.00000000e+00, -2.84924623e+00,  8.11820409e+00],\n",
              "       [ 1.00000000e+00, -2.81909548e+00,  7.94729931e+00],\n",
              "       [ 1.00000000e+00, -2.78894472e+00,  7.77821267e+00],\n",
              "       [ 1.00000000e+00, -2.75879397e+00,  7.61094417e+00],\n",
              "       [ 1.00000000e+00, -2.72864322e+00,  7.44549380e+00],\n",
              "       [ 1.00000000e+00, -2.69849246e+00,  7.28186157e+00],\n",
              "       [ 1.00000000e+00, -2.66834171e+00,  7.12004747e+00],\n",
              "       [ 1.00000000e+00, -2.63819095e+00,  6.96005151e+00],\n",
              "       [ 1.00000000e+00, -2.60804020e+00,  6.80187369e+00],\n",
              "       [ 1.00000000e+00, -2.57788945e+00,  6.64551400e+00],\n",
              "       [ 1.00000000e+00, -2.54773869e+00,  6.49097245e+00],\n",
              "       [ 1.00000000e+00, -2.51758794e+00,  6.33824903e+00],\n",
              "       [ 1.00000000e+00, -2.48743719e+00,  6.18734375e+00],\n",
              "       [ 1.00000000e+00, -2.45728643e+00,  6.03825661e+00],\n",
              "       [ 1.00000000e+00, -2.42713568e+00,  5.89098760e+00],\n",
              "       [ 1.00000000e+00, -2.39698492e+00,  5.74553673e+00],\n",
              "       [ 1.00000000e+00, -2.36683417e+00,  5.60190399e+00],\n",
              "       [ 1.00000000e+00, -2.33668342e+00,  5.46008939e+00],\n",
              "       [ 1.00000000e+00, -2.30653266e+00,  5.32009293e+00],\n",
              "       [ 1.00000000e+00, -2.27638191e+00,  5.18191460e+00],\n",
              "       [ 1.00000000e+00, -2.24623116e+00,  5.04555441e+00],\n",
              "       [ 1.00000000e+00, -2.21608040e+00,  4.91101235e+00],\n",
              "       [ 1.00000000e+00, -2.18592965e+00,  4.77828843e+00],\n",
              "       [ 1.00000000e+00, -2.15577889e+00,  4.64738264e+00],\n",
              "       [ 1.00000000e+00, -2.12562814e+00,  4.51829499e+00],\n",
              "       [ 1.00000000e+00, -2.09547739e+00,  4.39102548e+00],\n",
              "       [ 1.00000000e+00, -2.06532663e+00,  4.26557410e+00],\n",
              "       [ 1.00000000e+00, -2.03517588e+00,  4.14194086e+00],\n",
              "       [ 1.00000000e+00, -2.00502513e+00,  4.02012575e+00],\n",
              "       [ 1.00000000e+00, -1.97487437e+00,  3.90012878e+00],\n",
              "       [ 1.00000000e+00, -1.94472362e+00,  3.78194995e+00],\n",
              "       [ 1.00000000e+00, -1.91457286e+00,  3.66558925e+00],\n",
              "       [ 1.00000000e+00, -1.88442211e+00,  3.55104669e+00],\n",
              "       [ 1.00000000e+00, -1.85427136e+00,  3.43832226e+00],\n",
              "       [ 1.00000000e+00, -1.82412060e+00,  3.32741597e+00],\n",
              "       [ 1.00000000e+00, -1.79396985e+00,  3.21832782e+00],\n",
              "       [ 1.00000000e+00, -1.76381910e+00,  3.11105780e+00],\n",
              "       [ 1.00000000e+00, -1.73366834e+00,  3.00560592e+00],\n",
              "       [ 1.00000000e+00, -1.70351759e+00,  2.90197217e+00],\n",
              "       [ 1.00000000e+00, -1.67336683e+00,  2.80015656e+00],\n",
              "       [ 1.00000000e+00, -1.64321608e+00,  2.70015909e+00],\n",
              "       [ 1.00000000e+00, -1.61306533e+00,  2.60197975e+00],\n",
              "       [ 1.00000000e+00, -1.58291457e+00,  2.50561854e+00],\n",
              "       [ 1.00000000e+00, -1.55276382e+00,  2.41107548e+00],\n",
              "       [ 1.00000000e+00, -1.52261307e+00,  2.31835055e+00],\n",
              "       [ 1.00000000e+00, -1.49246231e+00,  2.22744375e+00],\n",
              "       [ 1.00000000e+00, -1.46231156e+00,  2.13835509e+00],\n",
              "       [ 1.00000000e+00, -1.43216080e+00,  2.05108457e+00],\n",
              "       [ 1.00000000e+00, -1.40201005e+00,  1.96563218e+00],\n",
              "       [ 1.00000000e+00, -1.37185930e+00,  1.88199793e+00],\n",
              "       [ 1.00000000e+00, -1.34170854e+00,  1.80018181e+00],\n",
              "       [ 1.00000000e+00, -1.31155779e+00,  1.72018383e+00],\n",
              "       [ 1.00000000e+00, -1.28140704e+00,  1.64200399e+00],\n",
              "       [ 1.00000000e+00, -1.25125628e+00,  1.56564228e+00],\n",
              "       [ 1.00000000e+00, -1.22110553e+00,  1.49109871e+00],\n",
              "       [ 1.00000000e+00, -1.19095477e+00,  1.41837327e+00],\n",
              "       [ 1.00000000e+00, -1.16080402e+00,  1.34746597e+00],\n",
              "       [ 1.00000000e+00, -1.13065327e+00,  1.27837681e+00],\n",
              "       [ 1.00000000e+00, -1.10050251e+00,  1.21110578e+00],\n",
              "       [ 1.00000000e+00, -1.07035176e+00,  1.14565289e+00],\n",
              "       [ 1.00000000e+00, -1.04020101e+00,  1.08201813e+00],\n",
              "       [ 1.00000000e+00, -1.01005025e+00,  1.02020151e+00],\n",
              "       [ 1.00000000e+00, -9.79899497e-01,  9.60203025e-01],\n",
              "       [ 1.00000000e+00, -9.49748744e-01,  9.02022676e-01],\n",
              "       [ 1.00000000e+00, -9.19597990e-01,  8.45660463e-01],\n",
              "       [ 1.00000000e+00, -8.89447236e-01,  7.91116386e-01],\n",
              "       [ 1.00000000e+00, -8.59296482e-01,  7.38390445e-01],\n",
              "       [ 1.00000000e+00, -8.29145729e-01,  6.87482639e-01],\n",
              "       [ 1.00000000e+00, -7.98994975e-01,  6.38392970e-01],\n",
              "       [ 1.00000000e+00, -7.68844221e-01,  5.91121436e-01],\n",
              "       [ 1.00000000e+00, -7.38693467e-01,  5.45668039e-01],\n",
              "       [ 1.00000000e+00, -7.08542714e-01,  5.02032777e-01],\n",
              "       [ 1.00000000e+00, -6.78391960e-01,  4.60215651e-01],\n",
              "       [ 1.00000000e+00, -6.48241206e-01,  4.20216661e-01],\n",
              "       [ 1.00000000e+00, -6.18090452e-01,  3.82035807e-01],\n",
              "       [ 1.00000000e+00, -5.87939698e-01,  3.45673089e-01],\n",
              "       [ 1.00000000e+00, -5.57788945e-01,  3.11128507e-01],\n",
              "       [ 1.00000000e+00, -5.27638191e-01,  2.78402061e-01],\n",
              "       [ 1.00000000e+00, -4.97487437e-01,  2.47493750e-01],\n",
              "       [ 1.00000000e+00, -4.67336683e-01,  2.18403576e-01],\n",
              "       [ 1.00000000e+00, -4.37185930e-01,  1.91131537e-01],\n",
              "       [ 1.00000000e+00, -4.07035176e-01,  1.65677634e-01],\n",
              "       [ 1.00000000e+00, -3.76884422e-01,  1.42041868e-01],\n",
              "       [ 1.00000000e+00, -3.46733668e-01,  1.20224237e-01],\n",
              "       [ 1.00000000e+00, -3.16582915e-01,  1.00224742e-01],\n",
              "       [ 1.00000000e+00, -2.86432161e-01,  8.20433827e-02],\n",
              "       [ 1.00000000e+00, -2.56281407e-01,  6.56801596e-02],\n",
              "       [ 1.00000000e+00, -2.26130653e-01,  5.11350723e-02],\n",
              "       [ 1.00000000e+00, -1.95979899e-01,  3.84081210e-02],\n",
              "       [ 1.00000000e+00, -1.65829146e-01,  2.74993056e-02],\n",
              "       [ 1.00000000e+00, -1.35678392e-01,  1.84086260e-02],\n",
              "       [ 1.00000000e+00, -1.05527638e-01,  1.11360824e-02],\n",
              "       [ 1.00000000e+00, -7.53768844e-02,  5.68167471e-03],\n",
              "       [ 1.00000000e+00, -4.52261307e-02,  2.04540289e-03],\n",
              "       [ 1.00000000e+00, -1.50753769e-02,  2.27266988e-04],\n",
              "       [ 1.00000000e+00,  1.50753769e-02,  2.27266988e-04],\n",
              "       [ 1.00000000e+00,  4.52261307e-02,  2.04540289e-03],\n",
              "       [ 1.00000000e+00,  7.53768844e-02,  5.68167471e-03],\n",
              "       [ 1.00000000e+00,  1.05527638e-01,  1.11360824e-02],\n",
              "       [ 1.00000000e+00,  1.35678392e-01,  1.84086260e-02],\n",
              "       [ 1.00000000e+00,  1.65829146e-01,  2.74993056e-02],\n",
              "       [ 1.00000000e+00,  1.95979899e-01,  3.84081210e-02],\n",
              "       [ 1.00000000e+00,  2.26130653e-01,  5.11350723e-02],\n",
              "       [ 1.00000000e+00,  2.56281407e-01,  6.56801596e-02],\n",
              "       [ 1.00000000e+00,  2.86432161e-01,  8.20433827e-02],\n",
              "       [ 1.00000000e+00,  3.16582915e-01,  1.00224742e-01],\n",
              "       [ 1.00000000e+00,  3.46733668e-01,  1.20224237e-01],\n",
              "       [ 1.00000000e+00,  3.76884422e-01,  1.42041868e-01],\n",
              "       [ 1.00000000e+00,  4.07035176e-01,  1.65677634e-01],\n",
              "       [ 1.00000000e+00,  4.37185930e-01,  1.91131537e-01],\n",
              "       [ 1.00000000e+00,  4.67336683e-01,  2.18403576e-01],\n",
              "       [ 1.00000000e+00,  4.97487437e-01,  2.47493750e-01],\n",
              "       [ 1.00000000e+00,  5.27638191e-01,  2.78402061e-01],\n",
              "       [ 1.00000000e+00,  5.57788945e-01,  3.11128507e-01],\n",
              "       [ 1.00000000e+00,  5.87939698e-01,  3.45673089e-01],\n",
              "       [ 1.00000000e+00,  6.18090452e-01,  3.82035807e-01],\n",
              "       [ 1.00000000e+00,  6.48241206e-01,  4.20216661e-01],\n",
              "       [ 1.00000000e+00,  6.78391960e-01,  4.60215651e-01],\n",
              "       [ 1.00000000e+00,  7.08542714e-01,  5.02032777e-01],\n",
              "       [ 1.00000000e+00,  7.38693467e-01,  5.45668039e-01],\n",
              "       [ 1.00000000e+00,  7.68844221e-01,  5.91121436e-01],\n",
              "       [ 1.00000000e+00,  7.98994975e-01,  6.38392970e-01],\n",
              "       [ 1.00000000e+00,  8.29145729e-01,  6.87482639e-01],\n",
              "       [ 1.00000000e+00,  8.59296482e-01,  7.38390445e-01],\n",
              "       [ 1.00000000e+00,  8.89447236e-01,  7.91116386e-01],\n",
              "       [ 1.00000000e+00,  9.19597990e-01,  8.45660463e-01],\n",
              "       [ 1.00000000e+00,  9.49748744e-01,  9.02022676e-01],\n",
              "       [ 1.00000000e+00,  9.79899497e-01,  9.60203025e-01],\n",
              "       [ 1.00000000e+00,  1.01005025e+00,  1.02020151e+00],\n",
              "       [ 1.00000000e+00,  1.04020101e+00,  1.08201813e+00],\n",
              "       [ 1.00000000e+00,  1.07035176e+00,  1.14565289e+00],\n",
              "       [ 1.00000000e+00,  1.10050251e+00,  1.21110578e+00],\n",
              "       [ 1.00000000e+00,  1.13065327e+00,  1.27837681e+00],\n",
              "       [ 1.00000000e+00,  1.16080402e+00,  1.34746597e+00],\n",
              "       [ 1.00000000e+00,  1.19095477e+00,  1.41837327e+00],\n",
              "       [ 1.00000000e+00,  1.22110553e+00,  1.49109871e+00],\n",
              "       [ 1.00000000e+00,  1.25125628e+00,  1.56564228e+00],\n",
              "       [ 1.00000000e+00,  1.28140704e+00,  1.64200399e+00],\n",
              "       [ 1.00000000e+00,  1.31155779e+00,  1.72018383e+00],\n",
              "       [ 1.00000000e+00,  1.34170854e+00,  1.80018181e+00],\n",
              "       [ 1.00000000e+00,  1.37185930e+00,  1.88199793e+00],\n",
              "       [ 1.00000000e+00,  1.40201005e+00,  1.96563218e+00],\n",
              "       [ 1.00000000e+00,  1.43216080e+00,  2.05108457e+00],\n",
              "       [ 1.00000000e+00,  1.46231156e+00,  2.13835509e+00],\n",
              "       [ 1.00000000e+00,  1.49246231e+00,  2.22744375e+00],\n",
              "       [ 1.00000000e+00,  1.52261307e+00,  2.31835055e+00],\n",
              "       [ 1.00000000e+00,  1.55276382e+00,  2.41107548e+00],\n",
              "       [ 1.00000000e+00,  1.58291457e+00,  2.50561854e+00],\n",
              "       [ 1.00000000e+00,  1.61306533e+00,  2.60197975e+00],\n",
              "       [ 1.00000000e+00,  1.64321608e+00,  2.70015909e+00],\n",
              "       [ 1.00000000e+00,  1.67336683e+00,  2.80015656e+00],\n",
              "       [ 1.00000000e+00,  1.70351759e+00,  2.90197217e+00],\n",
              "       [ 1.00000000e+00,  1.73366834e+00,  3.00560592e+00],\n",
              "       [ 1.00000000e+00,  1.76381910e+00,  3.11105780e+00],\n",
              "       [ 1.00000000e+00,  1.79396985e+00,  3.21832782e+00],\n",
              "       [ 1.00000000e+00,  1.82412060e+00,  3.32741597e+00],\n",
              "       [ 1.00000000e+00,  1.85427136e+00,  3.43832226e+00],\n",
              "       [ 1.00000000e+00,  1.88442211e+00,  3.55104669e+00],\n",
              "       [ 1.00000000e+00,  1.91457286e+00,  3.66558925e+00],\n",
              "       [ 1.00000000e+00,  1.94472362e+00,  3.78194995e+00],\n",
              "       [ 1.00000000e+00,  1.97487437e+00,  3.90012878e+00],\n",
              "       [ 1.00000000e+00,  2.00502513e+00,  4.02012575e+00],\n",
              "       [ 1.00000000e+00,  2.03517588e+00,  4.14194086e+00],\n",
              "       [ 1.00000000e+00,  2.06532663e+00,  4.26557410e+00],\n",
              "       [ 1.00000000e+00,  2.09547739e+00,  4.39102548e+00],\n",
              "       [ 1.00000000e+00,  2.12562814e+00,  4.51829499e+00],\n",
              "       [ 1.00000000e+00,  2.15577889e+00,  4.64738264e+00],\n",
              "       [ 1.00000000e+00,  2.18592965e+00,  4.77828843e+00],\n",
              "       [ 1.00000000e+00,  2.21608040e+00,  4.91101235e+00],\n",
              "       [ 1.00000000e+00,  2.24623116e+00,  5.04555441e+00],\n",
              "       [ 1.00000000e+00,  2.27638191e+00,  5.18191460e+00],\n",
              "       [ 1.00000000e+00,  2.30653266e+00,  5.32009293e+00],\n",
              "       [ 1.00000000e+00,  2.33668342e+00,  5.46008939e+00],\n",
              "       [ 1.00000000e+00,  2.36683417e+00,  5.60190399e+00],\n",
              "       [ 1.00000000e+00,  2.39698492e+00,  5.74553673e+00],\n",
              "       [ 1.00000000e+00,  2.42713568e+00,  5.89098760e+00],\n",
              "       [ 1.00000000e+00,  2.45728643e+00,  6.03825661e+00],\n",
              "       [ 1.00000000e+00,  2.48743719e+00,  6.18734375e+00],\n",
              "       [ 1.00000000e+00,  2.51758794e+00,  6.33824903e+00],\n",
              "       [ 1.00000000e+00,  2.54773869e+00,  6.49097245e+00],\n",
              "       [ 1.00000000e+00,  2.57788945e+00,  6.64551400e+00],\n",
              "       [ 1.00000000e+00,  2.60804020e+00,  6.80187369e+00],\n",
              "       [ 1.00000000e+00,  2.63819095e+00,  6.96005151e+00],\n",
              "       [ 1.00000000e+00,  2.66834171e+00,  7.12004747e+00],\n",
              "       [ 1.00000000e+00,  2.69849246e+00,  7.28186157e+00],\n",
              "       [ 1.00000000e+00,  2.72864322e+00,  7.44549380e+00],\n",
              "       [ 1.00000000e+00,  2.75879397e+00,  7.61094417e+00],\n",
              "       [ 1.00000000e+00,  2.78894472e+00,  7.77821267e+00],\n",
              "       [ 1.00000000e+00,  2.81909548e+00,  7.94729931e+00],\n",
              "       [ 1.00000000e+00,  2.84924623e+00,  8.11820409e+00],\n",
              "       [ 1.00000000e+00,  2.87939698e+00,  8.29092700e+00],\n",
              "       [ 1.00000000e+00,  2.90954774e+00,  8.46546804e+00],\n",
              "       [ 1.00000000e+00,  2.93969849e+00,  8.64182723e+00],\n",
              "       [ 1.00000000e+00,  2.96984925e+00,  8.82000455e+00],\n",
              "       [ 1.00000000e+00,  3.00000000e+00,  9.00000000e+00]])"
            ]
          },
          "metadata": {},
          "execution_count": 19
        }
      ]
    },
    {
      "cell_type": "code",
      "source": [
        "y_new = regression.predict(X_new_poly)\n",
        "plt.plot(X_new, y_new, \"r-\", linewidth=2, label=\" New Predictions\")\n",
        "plt.plot(X_train, y_train, \"b.\",label='Training points')\n",
        "plt.plot(X_test, y_test, \"g.\",label='Testing points')\n",
        "plt.xlabel(\"X\")\n",
        "plt.ylabel(\"y\")\n",
        "plt.legend()\n",
        "plt.show()"
      ],
      "metadata": {
        "colab": {
          "base_uri": "https://localhost:8080/",
          "height": 449
        },
        "id": "ne7BYoaCV-oD",
        "outputId": "14daeb3f-9704-4f76-f6aa-b79fe304a35a"
      },
      "execution_count": 20,
      "outputs": [
        {
          "output_type": "display_data",
          "data": {
            "text/plain": [
              "<Figure size 640x480 with 1 Axes>"
            ],
            "image/png": "[encoded data removed]"
          },
          "metadata": {}
        }
      ]
    },
    {
      "cell_type": "code",
      "source": [
        "from sklearn.pipeline import Pipeline"
      ],
      "metadata": {
        "id": "zFobrv5VWCz7"
      },
      "execution_count": 21,
      "outputs": []
    },
    {
      "cell_type": "code",
      "source": [
        "def poly_regression(degree):\n",
        "    X_new = np.linspace(-3, 3, 200).reshape(200, 1)\n",
        "\n",
        "    poly_features=PolynomialFeatures(degree=degree,include_bias=True)\n",
        "    lin_reg=LinearRegression()\n",
        "    poly_regression=Pipeline([\n",
        "        (\"poly_features\",poly_features),\n",
        "        (\"lin_reg\",lin_reg)\n",
        "    ])\n",
        "    poly_regression.fit(X_train,y_train) ## ploynomial and fit of linear reression\n",
        "    y_pred_new=poly_regression.predict(X_new)\n",
        "    #plotting prediction line\n",
        "    plt.plot(X_new, y_pred_new,'r', label=\"Degree \" + str(degree), linewidth=2)\n",
        "    plt.plot(X_train, y_train, \"b.\", linewidth=3)\n",
        "    plt.plot(X_test, y_test, \"g.\", linewidth=3)\n",
        "    plt.legend(loc=\"upper left\")\n",
        "    plt.xlabel(\"X\")\n",
        "    plt.ylabel(\"y\")\n",
        "    plt.axis([-4,4, 0, 10])\n",
        "    plt.show()\n",
        ""
      ],
      "metadata": {
        "id": "IeZuSOC7WJ89"
      },
      "execution_count": 22,
      "outputs": []
    },
    {
      "cell_type": "code",
      "source": [
        "poly_regression(6)"
      ],
      "metadata": {
        "colab": {
          "base_uri": "https://localhost:8080/",
          "height": 455
        },
        "id": "rnLzK7oLWNfY",
        "outputId": "bfea4d4b-eb44-4c3c-b8a3-2f4932e02cad"
      },
      "execution_count": 23,
      "outputs": [
        {
          "output_type": "display_data",
          "data": {
            "text/plain": [
              "<Figure size 640x480 with 1 Axes>"
            ],
            "image/png": "[encoded data removed]"
          },
          "metadata": {}
        }
      ]
    },
    {
      "cell_type": "code",
      "source": [],
      "metadata": {
        "id": "tKcm4tc1WZM-"
      },
      "execution_count": null,
      "outputs": []
    }
  ]
}