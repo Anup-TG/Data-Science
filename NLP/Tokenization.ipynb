{
 "cells": [
  {
   "cell_type": "code",
   "execution_count": 2,
   "metadata": {},
   "outputs": [
    {
     "name": "stdout",
     "output_type": "stream",
     "text": [
      "Requirement already satisfied: nltk in /opt/anaconda3/lib/python3.12/site-packages (3.8.1)\n",
      "Requirement already satisfied: click in /opt/anaconda3/lib/python3.12/site-packages (from nltk) (8.1.7)\n",
      "Requirement already satisfied: joblib in /opt/anaconda3/lib/python3.12/site-packages (from nltk) (1.4.2)\n",
      "Requirement already satisfied: regex>=2021.8.3 in /opt/anaconda3/lib/python3.12/site-packages (from nltk) (2023.10.3)\n",
      "Requirement already satisfied: tqdm in /opt/anaconda3/lib/python3.12/site-packages (from nltk) (4.66.4)\n"
     ]
    }
   ],
   "source": [
    "!pip install nltk"
   ]
  },
  {
   "cell_type": "code",
   "execution_count": 4,
   "metadata": {},
   "outputs": [],
   "source": [
    "corpus=\"\"\"Product Reviews\n",
    "Title: \"Great Product for Daily Use!\"\n",
    "Text: \"I've been using this product for a few months now, and I absolutely love it! The quality is fantastic, and it meets my daily needs perfectly. Highly recommend to anyone looking for a reliable option.\"\n",
    "Title: \"Not What I Expected\"\n",
    "Text: \"Unfortunately, this product did not live up to the hype. The build quality felt cheap, and it didn't last more than a week before breaking. Definitely disappointed with this purchase.\"\n",
    "\"\"\""
   ]
  },
  {
   "cell_type": "code",
   "execution_count": 5,
   "metadata": {},
   "outputs": [
    {
     "name": "stdout",
     "output_type": "stream",
     "text": [
      "Product Reviews\n",
      "Title: \"Great Product for Daily Use!\"\n",
      "Text: \"I've been using this product for a few months now, and I absolutely love it! The quality is fantastic, and it meets my daily needs perfectly. Highly recommend to anyone looking for a reliable option.\"\n",
      "Title: \"Not What I Expected\"\n",
      "Text: \"Unfortunately, this product did not live up to the hype. The build quality felt cheap, and it didn't last more than a week before breaking. Definitely disappointed with this purchase.\"\n",
      "\n"
     ]
    }
   ],
   "source": [
    "print(corpus)"
   ]
  },
  {
   "cell_type": "code",
   "execution_count": 8,
   "metadata": {},
   "outputs": [
    {
     "name": "stderr",
     "output_type": "stream",
     "text": [
      "[nltk_data] Downloading package punkt to /Users/anup/nltk_data...\n",
      "[nltk_data]   Unzipping tokenizers/punkt.zip.\n"
     ]
    },
    {
     "data": {
      "text/plain": [
       "True"
      ]
     },
     "execution_count": 8,
     "metadata": {},
     "output_type": "execute_result"
    }
   ],
   "source": [
    "from nltk.tokenize import sent_tokenize\n",
    "import nltk\n",
    "nltk.download('punkt')\n"
   ]
  },
  {
   "cell_type": "code",
   "execution_count": 10,
   "metadata": {},
   "outputs": [
    {
     "name": "stdout",
     "output_type": "stream",
     "text": [
      "['Product Reviews\\nTitle: \"Great Product for Daily Use!\"', 'Text: \"I\\'ve been using this product for a few months now, and I absolutely love it!', 'The quality is fantastic, and it meets my daily needs perfectly.', 'Highly recommend to anyone looking for a reliable option.\"', 'Title: \"Not What I Expected\"\\nText: \"Unfortunately, this product did not live up to the hype.', \"The build quality felt cheap, and it didn't last more than a week before breaking.\", 'Definitely disappointed with this purchase.\"']\n"
     ]
    }
   ],
   "source": [
    "from nltk.tokenize import sent_tokenize\n",
    "\n",
    "documents = sent_tokenize(corpus)\n",
    "print(documents)\n"
   ]
  },
  {
   "cell_type": "code",
   "execution_count": 11,
   "metadata": {},
   "outputs": [
    {
     "data": {
      "text/plain": [
       "list"
      ]
     },
     "execution_count": 11,
     "metadata": {},
     "output_type": "execute_result"
    }
   ],
   "source": [
    "type(documents)"
   ]
  },
  {
   "cell_type": "code",
   "execution_count": 13,
   "metadata": {},
   "outputs": [
    {
     "name": "stdout",
     "output_type": "stream",
     "text": [
      "Product Reviews\n",
      "Title: \"Great Product for Daily Use!\"\n",
      "Text: \"I've been using this product for a few months now, and I absolutely love it!\n",
      "The quality is fantastic, and it meets my daily needs perfectly.\n",
      "Highly recommend to anyone looking for a reliable option.\"\n",
      "Title: \"Not What I Expected\"\n",
      "Text: \"Unfortunately, this product did not live up to the hype.\n",
      "The build quality felt cheap, and it didn't last more than a week before breaking.\n",
      "Definitely disappointed with this purchase.\"\n"
     ]
    }
   ],
   "source": [
    "for sentence in documents:\n",
    "    print(sentence)"
   ]
  },
  {
   "cell_type": "code",
   "execution_count": 14,
   "metadata": {},
   "outputs": [],
   "source": [
    "from nltk.tokenize import word_tokenize"
   ]
  },
  {
   "cell_type": "code",
   "execution_count": 15,
   "metadata": {},
   "outputs": [
    {
     "data": {
      "text/plain": [
       "['Product',\n",
       " 'Reviews',\n",
       " 'Title',\n",
       " ':',\n",
       " '``',\n",
       " 'Great',\n",
       " 'Product',\n",
       " 'for',\n",
       " 'Daily',\n",
       " 'Use',\n",
       " '!',\n",
       " \"''\",\n",
       " 'Text',\n",
       " ':',\n",
       " '``',\n",
       " 'I',\n",
       " \"'ve\",\n",
       " 'been',\n",
       " 'using',\n",
       " 'this',\n",
       " 'product',\n",
       " 'for',\n",
       " 'a',\n",
       " 'few',\n",
       " 'months',\n",
       " 'now',\n",
       " ',',\n",
       " 'and',\n",
       " 'I',\n",
       " 'absolutely',\n",
       " 'love',\n",
       " 'it',\n",
       " '!',\n",
       " 'The',\n",
       " 'quality',\n",
       " 'is',\n",
       " 'fantastic',\n",
       " ',',\n",
       " 'and',\n",
       " 'it',\n",
       " 'meets',\n",
       " 'my',\n",
       " 'daily',\n",
       " 'needs',\n",
       " 'perfectly',\n",
       " '.',\n",
       " 'Highly',\n",
       " 'recommend',\n",
       " 'to',\n",
       " 'anyone',\n",
       " 'looking',\n",
       " 'for',\n",
       " 'a',\n",
       " 'reliable',\n",
       " 'option',\n",
       " '.',\n",
       " \"''\",\n",
       " 'Title',\n",
       " ':',\n",
       " '``',\n",
       " 'Not',\n",
       " 'What',\n",
       " 'I',\n",
       " 'Expected',\n",
       " \"''\",\n",
       " 'Text',\n",
       " ':',\n",
       " '``',\n",
       " 'Unfortunately',\n",
       " ',',\n",
       " 'this',\n",
       " 'product',\n",
       " 'did',\n",
       " 'not',\n",
       " 'live',\n",
       " 'up',\n",
       " 'to',\n",
       " 'the',\n",
       " 'hype',\n",
       " '.',\n",
       " 'The',\n",
       " 'build',\n",
       " 'quality',\n",
       " 'felt',\n",
       " 'cheap',\n",
       " ',',\n",
       " 'and',\n",
       " 'it',\n",
       " 'did',\n",
       " \"n't\",\n",
       " 'last',\n",
       " 'more',\n",
       " 'than',\n",
       " 'a',\n",
       " 'week',\n",
       " 'before',\n",
       " 'breaking',\n",
       " '.',\n",
       " 'Definitely',\n",
       " 'disappointed',\n",
       " 'with',\n",
       " 'this',\n",
       " 'purchase',\n",
       " '.',\n",
       " \"''\"]"
      ]
     },
     "execution_count": 15,
     "metadata": {},
     "output_type": "execute_result"
    }
   ],
   "source": [
    "word_tokenize(corpus)"
   ]
  },
  {
   "cell_type": "code",
   "execution_count": 16,
   "metadata": {},
   "outputs": [
    {
     "name": "stdout",
     "output_type": "stream",
     "text": [
      "['Product', 'Reviews', 'Title', ':', '``', 'Great', 'Product', 'for', 'Daily', 'Use', '!', \"''\"]\n",
      "['Text', ':', '``', 'I', \"'ve\", 'been', 'using', 'this', 'product', 'for', 'a', 'few', 'months', 'now', ',', 'and', 'I', 'absolutely', 'love', 'it', '!']\n",
      "['The', 'quality', 'is', 'fantastic', ',', 'and', 'it', 'meets', 'my', 'daily', 'needs', 'perfectly', '.']\n",
      "['Highly', 'recommend', 'to', 'anyone', 'looking', 'for', 'a', 'reliable', 'option', '.', \"''\"]\n",
      "['Title', ':', '``', 'Not', 'What', 'I', 'Expected', \"''\", 'Text', ':', '``', 'Unfortunately', ',', 'this', 'product', 'did', 'not', 'live', 'up', 'to', 'the', 'hype', '.']\n",
      "['The', 'build', 'quality', 'felt', 'cheap', ',', 'and', 'it', 'did', \"n't\", 'last', 'more', 'than', 'a', 'week', 'before', 'breaking', '.']\n",
      "['Definitely', 'disappointed', 'with', 'this', 'purchase', '.', \"''\"]\n"
     ]
    }
   ],
   "source": [
    "for sentence in documents:\n",
    "    print(word_tokenize(sentence))"
   ]
  },
  {
   "cell_type": "code",
   "execution_count": 17,
   "metadata": {},
   "outputs": [],
   "source": [
    "from nltk.tokenize import wordpunct_tokenize"
   ]
  },
  {
   "cell_type": "code",
   "execution_count": 18,
   "metadata": {},
   "outputs": [
    {
     "data": {
      "text/plain": [
       "['Product',\n",
       " 'Reviews',\n",
       " 'Title',\n",
       " ':',\n",
       " '\"',\n",
       " 'Great',\n",
       " 'Product',\n",
       " 'for',\n",
       " 'Daily',\n",
       " 'Use',\n",
       " '!\"',\n",
       " 'Text',\n",
       " ':',\n",
       " '\"',\n",
       " 'I',\n",
       " \"'\",\n",
       " 've',\n",
       " 'been',\n",
       " 'using',\n",
       " 'this',\n",
       " 'product',\n",
       " 'for',\n",
       " 'a',\n",
       " 'few',\n",
       " 'months',\n",
       " 'now',\n",
       " ',',\n",
       " 'and',\n",
       " 'I',\n",
       " 'absolutely',\n",
       " 'love',\n",
       " 'it',\n",
       " '!',\n",
       " 'The',\n",
       " 'quality',\n",
       " 'is',\n",
       " 'fantastic',\n",
       " ',',\n",
       " 'and',\n",
       " 'it',\n",
       " 'meets',\n",
       " 'my',\n",
       " 'daily',\n",
       " 'needs',\n",
       " 'perfectly',\n",
       " '.',\n",
       " 'Highly',\n",
       " 'recommend',\n",
       " 'to',\n",
       " 'anyone',\n",
       " 'looking',\n",
       " 'for',\n",
       " 'a',\n",
       " 'reliable',\n",
       " 'option',\n",
       " '.\"',\n",
       " 'Title',\n",
       " ':',\n",
       " '\"',\n",
       " 'Not',\n",
       " 'What',\n",
       " 'I',\n",
       " 'Expected',\n",
       " '\"',\n",
       " 'Text',\n",
       " ':',\n",
       " '\"',\n",
       " 'Unfortunately',\n",
       " ',',\n",
       " 'this',\n",
       " 'product',\n",
       " 'did',\n",
       " 'not',\n",
       " 'live',\n",
       " 'up',\n",
       " 'to',\n",
       " 'the',\n",
       " 'hype',\n",
       " '.',\n",
       " 'The',\n",
       " 'build',\n",
       " 'quality',\n",
       " 'felt',\n",
       " 'cheap',\n",
       " ',',\n",
       " 'and',\n",
       " 'it',\n",
       " 'didn',\n",
       " \"'\",\n",
       " 't',\n",
       " 'last',\n",
       " 'more',\n",
       " 'than',\n",
       " 'a',\n",
       " 'week',\n",
       " 'before',\n",
       " 'breaking',\n",
       " '.',\n",
       " 'Definitely',\n",
       " 'disappointed',\n",
       " 'with',\n",
       " 'this',\n",
       " 'purchase',\n",
       " '.\"']"
      ]
     },
     "execution_count": 18,
     "metadata": {},
     "output_type": "execute_result"
    }
   ],
   "source": [
    "wordpunct_tokenize(corpus)"
   ]
  },
  {
   "cell_type": "code",
   "execution_count": 20,
   "metadata": {},
   "outputs": [
    {
     "data": {
      "text/plain": [
       "['Product',\n",
       " 'Reviews',\n",
       " 'Title',\n",
       " ':',\n",
       " '``',\n",
       " 'Great',\n",
       " 'Product',\n",
       " 'for',\n",
       " 'Daily',\n",
       " 'Use',\n",
       " '!',\n",
       " \"''\",\n",
       " 'Text',\n",
       " ':',\n",
       " '``',\n",
       " 'I',\n",
       " \"'ve\",\n",
       " 'been',\n",
       " 'using',\n",
       " 'this',\n",
       " 'product',\n",
       " 'for',\n",
       " 'a',\n",
       " 'few',\n",
       " 'months',\n",
       " 'now',\n",
       " ',',\n",
       " 'and',\n",
       " 'I',\n",
       " 'absolutely',\n",
       " 'love',\n",
       " 'it',\n",
       " '!',\n",
       " 'The',\n",
       " 'quality',\n",
       " 'is',\n",
       " 'fantastic',\n",
       " ',',\n",
       " 'and',\n",
       " 'it',\n",
       " 'meets',\n",
       " 'my',\n",
       " 'daily',\n",
       " 'needs',\n",
       " 'perfectly.',\n",
       " 'Highly',\n",
       " 'recommend',\n",
       " 'to',\n",
       " 'anyone',\n",
       " 'looking',\n",
       " 'for',\n",
       " 'a',\n",
       " 'reliable',\n",
       " 'option.',\n",
       " \"''\",\n",
       " 'Title',\n",
       " ':',\n",
       " '``',\n",
       " 'Not',\n",
       " 'What',\n",
       " 'I',\n",
       " 'Expected',\n",
       " \"''\",\n",
       " 'Text',\n",
       " ':',\n",
       " '``',\n",
       " 'Unfortunately',\n",
       " ',',\n",
       " 'this',\n",
       " 'product',\n",
       " 'did',\n",
       " 'not',\n",
       " 'live',\n",
       " 'up',\n",
       " 'to',\n",
       " 'the',\n",
       " 'hype.',\n",
       " 'The',\n",
       " 'build',\n",
       " 'quality',\n",
       " 'felt',\n",
       " 'cheap',\n",
       " ',',\n",
       " 'and',\n",
       " 'it',\n",
       " 'did',\n",
       " \"n't\",\n",
       " 'last',\n",
       " 'more',\n",
       " 'than',\n",
       " 'a',\n",
       " 'week',\n",
       " 'before',\n",
       " 'breaking.',\n",
       " 'Definitely',\n",
       " 'disappointed',\n",
       " 'with',\n",
       " 'this',\n",
       " 'purchase',\n",
       " '.',\n",
       " \"''\"]"
      ]
     },
     "execution_count": 20,
     "metadata": {},
     "output_type": "execute_result"
    }
   ],
   "source": [
    "from nltk.tokenize import TreebankWordTokenizer\n",
    "tokenizer=TreebankWordTokenizer()\n",
    "tokenizer.tokenize(corpus)"
   ]
  }
 ],
 "metadata": {
  "kernelspec": {
   "display_name": "base",
   "language": "python",
   "name": "python3"
  },
  "language_info": {
   "codemirror_mode": {
    "name": "ipython",
    "version": 3
   },
   "file_extension": ".py",
   "mimetype": "text/x-python",
   "name": "python",
   "nbconvert_exporter": "python",
   "pygments_lexer": "ipython3",
   "version": "3.12.2"
  }
 },
 "nbformat": 4,
 "nbformat_minor": 2
}
